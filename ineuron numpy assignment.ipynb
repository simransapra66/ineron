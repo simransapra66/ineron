{
 "cells": [
  {
   "cell_type": "markdown",
   "metadata": {},
   "source": [
    " ### Ques1-Write a function so that the columns of the output matrix are powers of the input\n",
    "vector.\n",
    "The order of the powers is determined by the increasing boolean argument. Specifically, when\n",
    "increasing is False, the i-th output column is the input vector raised element-wise to the power\n",
    "of N - i - 1."
   ]
  },
  {
   "cell_type": "code",
   "execution_count": 1,
   "metadata": {},
   "outputs": [],
   "source": [
    "import numpy as np\n",
    "import pandas as pd\n",
    "import ast \n"
   ]
  },
  {
   "cell_type": "code",
   "execution_count": 2,
   "metadata": {},
   "outputs": [
    {
     "name": "stdout",
     "output_type": "stream",
     "text": [
      "Enter the array[1,2,3,4,5]\n"
     ]
    }
   ],
   "source": [
    "\n",
    "array=ast.literal_eval(input('Enter the array'))\n",
    "array\n",
    "n=len(array)\n",
    "\n"
   ]
  },
  {
   "cell_type": "code",
   "execution_count": 29,
   "metadata": {},
   "outputs": [],
   "source": [
    "def vander_(ar,n):\n",
    "    k=1\n",
    "    arr=np.ones((n,n),dtype='int64')\n",
    "    for i in range(1,n):\n",
    "        for j in range(0,n):\n",
    "            arr[i][j]=ar[j]**(k)\n",
    "        k=k+1\n",
    "    return arr;\n"
   ]
  },
  {
   "cell_type": "code",
   "execution_count": 30,
   "metadata": {},
   "outputs": [
    {
     "name": "stdout",
     "output_type": "stream",
     "text": [
      "The final array is\n",
      "\n",
      "[[  1   1   1   1   1]\n",
      " [  1   2   3   4   5]\n",
      " [  1   4   9  16  25]\n",
      " [  1   8  27  64 125]\n",
      " [  1  16  81 256 625]]\n"
     ]
    }
   ],
   "source": [
    "final_array=vander_(array,n)\n",
    "print(\"The final array is\\n\")\n",
    "print(final_array)"
   ]
  },
  {
   "cell_type": "markdown",
   "metadata": {},
   "source": [
    "### Ques 2- WINDOW MOVING AVERAGE QUESTION:\n"
   ]
  },
  {
   "cell_type": "code",
   "execution_count": 45,
   "metadata": {},
   "outputs": [],
   "source": [
    "def window_average(arr,k):\n",
    "    final=[]\n",
    "    n=len(arr)\n",
    "    for j in range(0,n-k+1):\n",
    "        m=(arr[j]+arr[j+1]+arr[j+2]+arr[j+3])/k\n",
    "        final.append(m)\n",
    "    return final;\n",
    "\n",
    "            "
   ]
  },
  {
   "cell_type": "code",
   "execution_count": 46,
   "metadata": {},
   "outputs": [
    {
     "name": "stdout",
     "output_type": "stream",
     "text": [
      "Enter the array for window moving average\n",
      "[10,20,30,40,50,60,70,80,90,100]\n",
      "The weighted average array is\n",
      "\n",
      "[25.0, 35.0, 45.0, 55.0, 65.0, 75.0, 85.0]\n"
     ]
    }
   ],
   "source": [
    "\n",
    "array=ast.literal_eval(input(\"Enter the array for window moving average\\n\"))\n",
    "k=4\n",
    "average_array=window_average(array,k)\n",
    "print(\"The weighted average array is\\n\")\n",
    "print(average_array)\n",
    "        "
   ]
  },
  {
   "cell_type": "markdown",
   "metadata": {},
   "source": [
    "### Ques -3 - Write a function to find the window moving average for k=3"
   ]
  },
  {
   "cell_type": "code",
   "execution_count": 55,
   "metadata": {},
   "outputs": [],
   "source": [
    "def window_average(arr,k):\n",
    "    final=[]\n",
    "    n=len(arr)\n",
    "    sum=0\n",
    "    for j in range(0,n-k+1):\n",
    "        for i in range(0,k):\n",
    "            sum=sum+(arr[j+i])\n",
    "        m=sum/k\n",
    "        final.append(m)\n",
    "    return final;"
   ]
  },
  {
   "cell_type": "code",
   "execution_count": 56,
   "metadata": {},
   "outputs": [
    {
     "name": "stdout",
     "output_type": "stream",
     "text": [
      "Enter the array for window moving average\n",
      "[3,5,7,2,8,10,11,65,72,81,99,100,150]\n",
      "The weighted average array is\n",
      "\n",
      "[5.0, 9.666666666666666, 15.333333333333334, 22.0, 31.666666666666668, 60.333333333333336, 109.66666666666667, 182.33333333333334, 266.3333333333333, 359.6666666666667, 476.0]\n"
     ]
    }
   ],
   "source": [
    "arr=ast.literal_eval(input(\"Enter the array for window moving average\\n\"))\n",
    "k=3\n",
    "average_array=window_average(arr,k)\n",
    "print(\"The weighted average array is\\n\")\n",
    "print(average_array)"
   ]
  },
  {
   "cell_type": "code",
   "execution_count": 57,
   "metadata": {},
   "outputs": [
    {
     "name": "stdout",
     "output_type": "stream",
     "text": [
      "13\n",
      "11\n"
     ]
    }
   ],
   "source": [
    "print(len(arr))\n",
    "print(len(average_array))"
   ]
  }
 ],
 "metadata": {
  "kernelspec": {
   "display_name": "Python 3",
   "language": "python",
   "name": "python3"
  },
  "language_info": {
   "codemirror_mode": {
    "name": "ipython",
    "version": 3
   },
   "file_extension": ".py",
   "mimetype": "text/x-python",
   "name": "python",
   "nbconvert_exporter": "python",
   "pygments_lexer": "ipython3",
   "version": "3.8.3"
  }
 },
 "nbformat": 4,
 "nbformat_minor": 4
}
